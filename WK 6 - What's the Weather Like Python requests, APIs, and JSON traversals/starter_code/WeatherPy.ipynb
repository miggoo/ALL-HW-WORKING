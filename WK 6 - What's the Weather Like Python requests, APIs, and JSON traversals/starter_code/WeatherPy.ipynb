{
 "cells": [
  {
   "cell_type": "code",
   "execution_count": 1,
   "metadata": {
    "scrolled": true
   },
   "outputs": [],
   "source": [
    "# Dependencies and Setup\n",
    "import matplotlib.pyplot as plt\n",
    "import pandas as pd\n",
    "import numpy as np\n",
    "import requests\n",
    "import time\n",
    "import random\n",
    "import json\n",
    "import requests\n",
    "# Import API key\n",
    "import api_keys\n",
    "\n",
    "# Incorporated citipy to determine city based on latitude and longitude\n",
    "from citipy import citipy\n",
    "\n",
    "# Output File (CSV)\n",
    "output_data_file = \"output_data/cities.csv\"\n",
    "\n",
    "# Range of latitudes and longitudes\n",
    "lat_range = (-90, 90)\n",
    "lng_range = (-180, 180)"
   ]
  },
  {
   "cell_type": "markdown",
   "metadata": {},
   "source": [
    "## Generate Cities List"
   ]
  },
  {
   "cell_type": "code",
   "execution_count": 2,
   "metadata": {
    "scrolled": true
   },
   "outputs": [
    {
     "name": "stdout",
     "output_type": "stream",
     "text": [
      "595\n"
     ]
    }
   ],
   "source": [
    "# List for holding lat_lngs and cities\n",
    "lat_lngs = []\n",
    "cities = []\n",
    "\n",
    "# Create a set of random lat and lng combinations\n",
    "lats = np.random.uniform(low=-90.000, high=90.000, size=1500)\n",
    "lngs = np.random.uniform(low=-180.000, high=180.000, size=1500)\n",
    "lat_lngs = zip(lats, lngs)\n",
    "mylats =  []\n",
    "mylngs =  []\n",
    "# Identify nearest city for each lat, lng combination\n",
    "for lat_lng in lat_lngs:\n",
    "    city = citipy.nearest_city(lat_lng[0], lat_lng[1]).city_name\n",
    "    \n",
    "    # If the city is unique, then add it to a our cities list\n",
    "    if city not in cities:\n",
    "        cities.append(city)\n",
    "        mylats.append(lat_lng[0])\n",
    "        mylngs.append(lat_lng[1])\n",
    "        \n",
    "# Print the city count to confirm sufficient count\n",
    "\n",
    "c_df = pd.DataFrame({'City':cities,'lats':mylats,'lngs':mylngs}, dtype='int64')\n",
    "c_df.reset_index(inplace=True)\n",
    "print(len(c_df.City))"
   ]
  },
  {
   "cell_type": "code",
   "execution_count": 3,
   "metadata": {},
   "outputs": [
    {
     "data": {
      "text/html": [
       "<div>\n",
       "<style scoped>\n",
       "    .dataframe tbody tr th:only-of-type {\n",
       "        vertical-align: middle;\n",
       "    }\n",
       "\n",
       "    .dataframe tbody tr th {\n",
       "        vertical-align: top;\n",
       "    }\n",
       "\n",
       "    .dataframe thead th {\n",
       "        text-align: right;\n",
       "    }\n",
       "</style>\n",
       "<table border=\"1\" class=\"dataframe\">\n",
       "  <thead>\n",
       "    <tr style=\"text-align: right;\">\n",
       "      <th></th>\n",
       "      <th>index</th>\n",
       "      <th>City</th>\n",
       "      <th>lats</th>\n",
       "      <th>lngs</th>\n",
       "    </tr>\n",
       "  </thead>\n",
       "  <tbody>\n",
       "    <tr>\n",
       "      <th>0</th>\n",
       "      <td>0</td>\n",
       "      <td>arraial do cabo</td>\n",
       "      <td>-49</td>\n",
       "      <td>-20</td>\n",
       "    </tr>\n",
       "    <tr>\n",
       "      <th>1</th>\n",
       "      <td>1</td>\n",
       "      <td>rikitea</td>\n",
       "      <td>-33</td>\n",
       "      <td>-109</td>\n",
       "    </tr>\n",
       "    <tr>\n",
       "      <th>2</th>\n",
       "      <td>2</td>\n",
       "      <td>dunedin</td>\n",
       "      <td>-50</td>\n",
       "      <td>174</td>\n",
       "    </tr>\n",
       "    <tr>\n",
       "      <th>3</th>\n",
       "      <td>3</td>\n",
       "      <td>fort nelson</td>\n",
       "      <td>60</td>\n",
       "      <td>-124</td>\n",
       "    </tr>\n",
       "    <tr>\n",
       "      <th>4</th>\n",
       "      <td>4</td>\n",
       "      <td>merauke</td>\n",
       "      <td>-9</td>\n",
       "      <td>137</td>\n",
       "    </tr>\n",
       "  </tbody>\n",
       "</table>\n",
       "</div>"
      ],
      "text/plain": [
       "   index             City  lats  lngs\n",
       "0      0  arraial do cabo   -49   -20\n",
       "1      1          rikitea   -33  -109\n",
       "2      2          dunedin   -50   174\n",
       "3      3      fort nelson    60  -124\n",
       "4      4          merauke    -9   137"
      ]
     },
     "execution_count": 3,
     "metadata": {},
     "output_type": "execute_result"
    }
   ],
   "source": [
    "c_df.head()"
   ]
  },
  {
   "cell_type": "markdown",
   "metadata": {},
   "source": [
    "## Perform API Calls"
   ]
  },
  {
   "cell_type": "code",
   "execution_count": null,
   "metadata": {
    "scrolled": false
   },
   "outputs": [
    {
     "name": "stdout",
     "output_type": "stream",
     "text": [
      "http://api.openweathermap.org/data/2.5/weather?units=Imperial&APPID=b1c11a19b0e2d8adfc8876a5cd34b6a2&lat=-49.86174151993671&lon=-20.17451824426422\n",
      "http://api.openweathermap.org/data/2.5/weather?units=Imperial&APPID=b1c11a19b0e2d8adfc8876a5cd34b6a2&lat=-33.70774681422394&lon=-109.7869223139738\n",
      "http://api.openweathermap.org/data/2.5/weather?units=Imperial&APPID=b1c11a19b0e2d8adfc8876a5cd34b6a2&lat=-50.628302037883&lon=174.63526854521666\n",
      "http://api.openweathermap.org/data/2.5/weather?units=Imperial&APPID=b1c11a19b0e2d8adfc8876a5cd34b6a2&lat=60.97892424446806&lon=-124.5458092504328\n",
      "http://api.openweathermap.org/data/2.5/weather?units=Imperial&APPID=b1c11a19b0e2d8adfc8876a5cd34b6a2&lat=-9.156182092162396&lon=137.6495083718055\n",
      "http://api.openweathermap.org/data/2.5/weather?units=Imperial&APPID=b1c11a19b0e2d8adfc8876a5cd34b6a2&lat=45.583104036543375&lon=-28.61249596626689\n",
      "http://api.openweathermap.org/data/2.5/weather?units=Imperial&APPID=b1c11a19b0e2d8adfc8876a5cd34b6a2&lat=0.2702596869184646&lon=153.10680822118684\n",
      "http://api.openweathermap.org/data/2.5/weather?units=Imperial&APPID=b1c11a19b0e2d8adfc8876a5cd34b6a2&lat=-58.491920827434335&lon=118.92859100109428\n",
      "http://api.openweathermap.org/data/2.5/weather?units=Imperial&APPID=b1c11a19b0e2d8adfc8876a5cd34b6a2&lat=72.25178629082257&lon=-86.69008334320384\n",
      "http://api.openweathermap.org/data/2.5/weather?units=Imperial&APPID=b1c11a19b0e2d8adfc8876a5cd34b6a2&lat=-72.97276445497162&lon=-176.80143309792436\n",
      "http://api.openweathermap.org/data/2.5/weather?units=Imperial&APPID=b1c11a19b0e2d8adfc8876a5cd34b6a2&lat=-20.947613289954205&lon=81.63898943270414\n",
      "http://api.openweathermap.org/data/2.5/weather?units=Imperial&APPID=b1c11a19b0e2d8adfc8876a5cd34b6a2&lat=32.67698953335153&lon=-43.981138353757814\n",
      "http://api.openweathermap.org/data/2.5/weather?units=Imperial&APPID=b1c11a19b0e2d8adfc8876a5cd34b6a2&lat=-80.19935630751641&lon=7.00926261278974\n",
      "http://api.openweathermap.org/data/2.5/weather?units=Imperial&APPID=b1c11a19b0e2d8adfc8876a5cd34b6a2&lat=42.54133630793439&lon=135.17357022556536\n",
      "http://api.openweathermap.org/data/2.5/weather?units=Imperial&APPID=b1c11a19b0e2d8adfc8876a5cd34b6a2&lat=83.90528689253554&lon=86.33479515728811\n",
      "http://api.openweathermap.org/data/2.5/weather?units=Imperial&APPID=b1c11a19b0e2d8adfc8876a5cd34b6a2&lat=-77.06827010710845&lon=-154.2788663822944\n",
      "http://api.openweathermap.org/data/2.5/weather?units=Imperial&APPID=b1c11a19b0e2d8adfc8876a5cd34b6a2&lat=-35.02015018359265&lon=86.88776439827836\n",
      "http://api.openweathermap.org/data/2.5/weather?units=Imperial&APPID=b1c11a19b0e2d8adfc8876a5cd34b6a2&lat=-28.31419068307087&lon=-76.32156037527034\n",
      "http://api.openweathermap.org/data/2.5/weather?units=Imperial&APPID=b1c11a19b0e2d8adfc8876a5cd34b6a2&lat=67.42401756620637&lon=175.8077759420283\n",
      "http://api.openweathermap.org/data/2.5/weather?units=Imperial&APPID=b1c11a19b0e2d8adfc8876a5cd34b6a2&lat=-73.90987099848645&lon=21.50745114930436\n",
      "http://api.openweathermap.org/data/2.5/weather?units=Imperial&APPID=b1c11a19b0e2d8adfc8876a5cd34b6a2&lat=-8.862813387740857&lon=115.35282505586383\n",
      "http://api.openweathermap.org/data/2.5/weather?units=Imperial&APPID=b1c11a19b0e2d8adfc8876a5cd34b6a2&lat=35.35427218835022&lon=-15.972021139340399\n",
      "http://api.openweathermap.org/data/2.5/weather?units=Imperial&APPID=b1c11a19b0e2d8adfc8876a5cd34b6a2&lat=-71.42513074256065&lon=153.36483297573199\n",
      "http://api.openweathermap.org/data/2.5/weather?units=Imperial&APPID=b1c11a19b0e2d8adfc8876a5cd34b6a2&lat=6.2291374295866575&lon=115.514192934584\n",
      "http://api.openweathermap.org/data/2.5/weather?units=Imperial&APPID=b1c11a19b0e2d8adfc8876a5cd34b6a2&lat=8.197764602468183&lon=178.86519554768182\n",
      "http://api.openweathermap.org/data/2.5/weather?units=Imperial&APPID=b1c11a19b0e2d8adfc8876a5cd34b6a2&lat=81.1841203955255&lon=42.42568614679817\n",
      "http://api.openweathermap.org/data/2.5/weather?units=Imperial&APPID=b1c11a19b0e2d8adfc8876a5cd34b6a2&lat=13.033628113694348&lon=-131.55292260012948\n",
      "http://api.openweathermap.org/data/2.5/weather?units=Imperial&APPID=b1c11a19b0e2d8adfc8876a5cd34b6a2&lat=6.411509714160232&lon=-49.71498763497851\n",
      "http://api.openweathermap.org/data/2.5/weather?units=Imperial&APPID=b1c11a19b0e2d8adfc8876a5cd34b6a2&lat=-19.57645344479492&lon=36.70675222248559\n",
      "http://api.openweathermap.org/data/2.5/weather?units=Imperial&APPID=b1c11a19b0e2d8adfc8876a5cd34b6a2&lat=29.893473134275766&lon=148.71133319227982\n",
      "http://api.openweathermap.org/data/2.5/weather?units=Imperial&APPID=b1c11a19b0e2d8adfc8876a5cd34b6a2&lat=19.84201110420858&lon=-48.62670261731898\n",
      "http://api.openweathermap.org/data/2.5/weather?units=Imperial&APPID=b1c11a19b0e2d8adfc8876a5cd34b6a2&lat=54.755573486617806&lon=-98.57443665809893\n",
      "http://api.openweathermap.org/data/2.5/weather?units=Imperial&APPID=b1c11a19b0e2d8adfc8876a5cd34b6a2&lat=-65.47907527548813&lon=175.5053191042906\n",
      "http://api.openweathermap.org/data/2.5/weather?units=Imperial&APPID=b1c11a19b0e2d8adfc8876a5cd34b6a2&lat=-47.18491160821146&lon=-87.58374501916771\n",
      "http://api.openweathermap.org/data/2.5/weather?units=Imperial&APPID=b1c11a19b0e2d8adfc8876a5cd34b6a2&lat=1.803934060890569&lon=-74.71885611859442\n",
      "http://api.openweathermap.org/data/2.5/weather?units=Imperial&APPID=b1c11a19b0e2d8adfc8876a5cd34b6a2&lat=-8.790666732468353&lon=-16.308913888707394\n",
      "http://api.openweathermap.org/data/2.5/weather?units=Imperial&APPID=b1c11a19b0e2d8adfc8876a5cd34b6a2&lat=-85.13503291594445&lon=-103.9299220943769\n",
      "http://api.openweathermap.org/data/2.5/weather?units=Imperial&APPID=b1c11a19b0e2d8adfc8876a5cd34b6a2&lat=-39.90203223665088&lon=165.58972703174135\n",
      "http://api.openweathermap.org/data/2.5/weather?units=Imperial&APPID=b1c11a19b0e2d8adfc8876a5cd34b6a2&lat=-6.675210885117508&lon=165.46051359343846\n",
      "http://api.openweathermap.org/data/2.5/weather?units=Imperial&APPID=b1c11a19b0e2d8adfc8876a5cd34b6a2&lat=17.5370268779305&lon=55.25034665500064\n",
      "http://api.openweathermap.org/data/2.5/weather?units=Imperial&APPID=b1c11a19b0e2d8adfc8876a5cd34b6a2&lat=55.82516347803437&lon=107.06812214429345\n",
      "http://api.openweathermap.org/data/2.5/weather?units=Imperial&APPID=b1c11a19b0e2d8adfc8876a5cd34b6a2&lat=53.37495195852463&lon=-95.67045712317444\n",
      "http://api.openweathermap.org/data/2.5/weather?units=Imperial&APPID=b1c11a19b0e2d8adfc8876a5cd34b6a2&lat=-55.69938954084883&lon=-25.95189015110293\n",
      "http://api.openweathermap.org/data/2.5/weather?units=Imperial&APPID=b1c11a19b0e2d8adfc8876a5cd34b6a2&lat=-0.30898665791940516&lon=40.36725131343644\n",
      "http://api.openweathermap.org/data/2.5/weather?units=Imperial&APPID=b1c11a19b0e2d8adfc8876a5cd34b6a2&lat=4.660963896012419&lon=-19.386817770919407\n",
      "http://api.openweathermap.org/data/2.5/weather?units=Imperial&APPID=b1c11a19b0e2d8adfc8876a5cd34b6a2&lat=3.0496653919639414&lon=90.43650783443127\n",
      "http://api.openweathermap.org/data/2.5/weather?units=Imperial&APPID=b1c11a19b0e2d8adfc8876a5cd34b6a2&lat=3.3683948231931566&lon=178.83653650631408\n",
      "http://api.openweathermap.org/data/2.5/weather?units=Imperial&APPID=b1c11a19b0e2d8adfc8876a5cd34b6a2&lat=88.15074652518436&lon=-174.0109955651107\n",
      "http://api.openweathermap.org/data/2.5/weather?units=Imperial&APPID=b1c11a19b0e2d8adfc8876a5cd34b6a2&lat=-10.748406498414354&lon=-144.62253087979477\n",
      "http://api.openweathermap.org/data/2.5/weather?units=Imperial&APPID=b1c11a19b0e2d8adfc8876a5cd34b6a2&lat=-82.33794192895421&lon=-37.6747751109728\n",
      "http://api.openweathermap.org/data/2.5/weather?units=Imperial&APPID=b1c11a19b0e2d8adfc8876a5cd34b6a2&lat=74.72804124771429&lon=-147.73694148184694\n",
      "http://api.openweathermap.org/data/2.5/weather?units=Imperial&APPID=b1c11a19b0e2d8adfc8876a5cd34b6a2&lat=-70.46791911345957&lon=53.51649655762134\n",
      "http://api.openweathermap.org/data/2.5/weather?units=Imperial&APPID=b1c11a19b0e2d8adfc8876a5cd34b6a2&lat=27.117076442334493&lon=25.577958615185736\n",
      "http://api.openweathermap.org/data/2.5/weather?units=Imperial&APPID=b1c11a19b0e2d8adfc8876a5cd34b6a2&lat=-1.8612318497976759&lon=51.46646983311797\n",
      "http://api.openweathermap.org/data/2.5/weather?units=Imperial&APPID=b1c11a19b0e2d8adfc8876a5cd34b6a2&lat=16.48745220680476&lon=-114.17042368070543\n",
      "http://api.openweathermap.org/data/2.5/weather?units=Imperial&APPID=b1c11a19b0e2d8adfc8876a5cd34b6a2&lat=41.024284087116996&lon=29.905129230911854\n"
     ]
    },
    {
     "name": "stdout",
     "output_type": "stream",
     "text": [
      "http://api.openweathermap.org/data/2.5/weather?units=Imperial&APPID=b1c11a19b0e2d8adfc8876a5cd34b6a2&lat=14.095663922859927&lon=-126.08621120677574\n",
      "http://api.openweathermap.org/data/2.5/weather?units=Imperial&APPID=b1c11a19b0e2d8adfc8876a5cd34b6a2&lat=52.86710134164139&lon=-123.5391900190209\n",
      "http://api.openweathermap.org/data/2.5/weather?units=Imperial&APPID=b1c11a19b0e2d8adfc8876a5cd34b6a2&lat=76.40173339408511&lon=-116.93190538957765\n",
      "http://api.openweathermap.org/data/2.5/weather?units=Imperial&APPID=b1c11a19b0e2d8adfc8876a5cd34b6a2&lat=22.042313822486136&lon=-102.82204885769819\n",
      "http://api.openweathermap.org/data/2.5/weather?units=Imperial&APPID=b1c11a19b0e2d8adfc8876a5cd34b6a2&lat=71.22363135782794&lon=140.8019987506642\n",
      "http://api.openweathermap.org/data/2.5/weather?units=Imperial&APPID=b1c11a19b0e2d8adfc8876a5cd34b6a2&lat=41.88233643696691&lon=14.74697657894751\n",
      "http://api.openweathermap.org/data/2.5/weather?units=Imperial&APPID=b1c11a19b0e2d8adfc8876a5cd34b6a2&lat=-79.87161279921321&lon=-14.1899199844554\n",
      "http://api.openweathermap.org/data/2.5/weather?units=Imperial&APPID=b1c11a19b0e2d8adfc8876a5cd34b6a2&lat=-24.93603171424337&lon=-18.21774524237381\n",
      "http://api.openweathermap.org/data/2.5/weather?units=Imperial&APPID=b1c11a19b0e2d8adfc8876a5cd34b6a2&lat=-0.31610035011745197&lon=-9.799428024309634\n",
      "http://api.openweathermap.org/data/2.5/weather?units=Imperial&APPID=b1c11a19b0e2d8adfc8876a5cd34b6a2&lat=-10.683709123022084&lon=107.120700101696\n",
      "http://api.openweathermap.org/data/2.5/weather?units=Imperial&APPID=b1c11a19b0e2d8adfc8876a5cd34b6a2&lat=79.2043496579233&lon=105.34465944547668\n",
      "http://api.openweathermap.org/data/2.5/weather?units=Imperial&APPID=b1c11a19b0e2d8adfc8876a5cd34b6a2&lat=-44.24317116052159&lon=-45.519583123732474\n",
      "http://api.openweathermap.org/data/2.5/weather?units=Imperial&APPID=b1c11a19b0e2d8adfc8876a5cd34b6a2&lat=33.85274130919957&lon=113.53834611047978\n",
      "http://api.openweathermap.org/data/2.5/weather?units=Imperial&APPID=b1c11a19b0e2d8adfc8876a5cd34b6a2&lat=36.39637961126424&lon=-115.76644720686463\n",
      "http://api.openweathermap.org/data/2.5/weather?units=Imperial&APPID=b1c11a19b0e2d8adfc8876a5cd34b6a2&lat=59.54288453896393&lon=65.40052582758267\n",
      "http://api.openweathermap.org/data/2.5/weather?units=Imperial&APPID=b1c11a19b0e2d8adfc8876a5cd34b6a2&lat=85.99671333412488&lon=40.702206816852396\n",
      "http://api.openweathermap.org/data/2.5/weather?units=Imperial&APPID=b1c11a19b0e2d8adfc8876a5cd34b6a2&lat=-34.60331986283353&lon=50.7042261265795\n",
      "http://api.openweathermap.org/data/2.5/weather?units=Imperial&APPID=b1c11a19b0e2d8adfc8876a5cd34b6a2&lat=1.2489538999358274&lon=-15.113285629246775\n",
      "http://api.openweathermap.org/data/2.5/weather?units=Imperial&APPID=b1c11a19b0e2d8adfc8876a5cd34b6a2&lat=-32.430190898607364&lon=155.89023812835768\n",
      "http://api.openweathermap.org/data/2.5/weather?units=Imperial&APPID=b1c11a19b0e2d8adfc8876a5cd34b6a2&lat=66.72801326912673&lon=65.25311575872536\n",
      "http://api.openweathermap.org/data/2.5/weather?units=Imperial&APPID=b1c11a19b0e2d8adfc8876a5cd34b6a2&lat=-19.909822128598037&lon=177.22888744786826\n",
      "http://api.openweathermap.org/data/2.5/weather?units=Imperial&APPID=b1c11a19b0e2d8adfc8876a5cd34b6a2&lat=34.90175455408574&lon=-51.528906522003666\n",
      "http://api.openweathermap.org/data/2.5/weather?units=Imperial&APPID=b1c11a19b0e2d8adfc8876a5cd34b6a2&lat=83.6806626653865&lon=-7.6516860763155705\n",
      "http://api.openweathermap.org/data/2.5/weather?units=Imperial&APPID=b1c11a19b0e2d8adfc8876a5cd34b6a2&lat=57.68250251769558&lon=-168.25285523568672\n",
      "http://api.openweathermap.org/data/2.5/weather?units=Imperial&APPID=b1c11a19b0e2d8adfc8876a5cd34b6a2&lat=-9.130541962342207&lon=36.92318440833208\n",
      "http://api.openweathermap.org/data/2.5/weather?units=Imperial&APPID=b1c11a19b0e2d8adfc8876a5cd34b6a2&lat=21.658428892967464&lon=25.27891792943055\n",
      "http://api.openweathermap.org/data/2.5/weather?units=Imperial&APPID=b1c11a19b0e2d8adfc8876a5cd34b6a2&lat=72.27868365926636&lon=-133.78603426984552\n",
      "http://api.openweathermap.org/data/2.5/weather?units=Imperial&APPID=b1c11a19b0e2d8adfc8876a5cd34b6a2&lat=-18.63906688747467&lon=5.051072864570017\n",
      "http://api.openweathermap.org/data/2.5/weather?units=Imperial&APPID=b1c11a19b0e2d8adfc8876a5cd34b6a2&lat=85.95711632649062&lon=24.330587636018294\n",
      "http://api.openweathermap.org/data/2.5/weather?units=Imperial&APPID=b1c11a19b0e2d8adfc8876a5cd34b6a2&lat=-81.98920185097379&lon=30.734978890024706\n",
      "http://api.openweathermap.org/data/2.5/weather?units=Imperial&APPID=b1c11a19b0e2d8adfc8876a5cd34b6a2&lat=70.03241273207283&lon=65.51643837738578\n",
      "http://api.openweathermap.org/data/2.5/weather?units=Imperial&APPID=b1c11a19b0e2d8adfc8876a5cd34b6a2&lat=7.2947424706724036&lon=-34.172819446604166\n",
      "http://api.openweathermap.org/data/2.5/weather?units=Imperial&APPID=b1c11a19b0e2d8adfc8876a5cd34b6a2&lat=-36.00010787446963&lon=66.79728953659856\n",
      "http://api.openweathermap.org/data/2.5/weather?units=Imperial&APPID=b1c11a19b0e2d8adfc8876a5cd34b6a2&lat=0.7842298037943607&lon=-58.628950003265686\n",
      "http://api.openweathermap.org/data/2.5/weather?units=Imperial&APPID=b1c11a19b0e2d8adfc8876a5cd34b6a2&lat=-24.224697758164027&lon=61.75849509181842\n",
      "http://api.openweathermap.org/data/2.5/weather?units=Imperial&APPID=b1c11a19b0e2d8adfc8876a5cd34b6a2&lat=-50.537931867338635&lon=47.45322379490506\n",
      "http://api.openweathermap.org/data/2.5/weather?units=Imperial&APPID=b1c11a19b0e2d8adfc8876a5cd34b6a2&lat=45.02546176162841&lon=-141.26190043882747\n",
      "http://api.openweathermap.org/data/2.5/weather?units=Imperial&APPID=b1c11a19b0e2d8adfc8876a5cd34b6a2&lat=28.04863130583327&lon=-96.35904639824214\n",
      "http://api.openweathermap.org/data/2.5/weather?units=Imperial&APPID=b1c11a19b0e2d8adfc8876a5cd34b6a2&lat=16.68452268538239&lon=-62.93340226106079\n",
      "http://api.openweathermap.org/data/2.5/weather?units=Imperial&APPID=b1c11a19b0e2d8adfc8876a5cd34b6a2&lat=-3.152644034347773&lon=172.90753699508264\n",
      "http://api.openweathermap.org/data/2.5/weather?units=Imperial&APPID=b1c11a19b0e2d8adfc8876a5cd34b6a2&lat=63.50928697729185&lon=-86.60699592920457\n",
      "http://api.openweathermap.org/data/2.5/weather?units=Imperial&APPID=b1c11a19b0e2d8adfc8876a5cd34b6a2&lat=65.12489588837286&lon=130.80614270292335\n",
      "http://api.openweathermap.org/data/2.5/weather?units=Imperial&APPID=b1c11a19b0e2d8adfc8876a5cd34b6a2&lat=-72.84812939312862&lon=44.81020054332225\n",
      "http://api.openweathermap.org/data/2.5/weather?units=Imperial&APPID=b1c11a19b0e2d8adfc8876a5cd34b6a2&lat=-20.591529039816237&lon=133.6611801707529\n",
      "http://api.openweathermap.org/data/2.5/weather?units=Imperial&APPID=b1c11a19b0e2d8adfc8876a5cd34b6a2&lat=-51.98831116804417&lon=104.00787826942087\n",
      "http://api.openweathermap.org/data/2.5/weather?units=Imperial&APPID=b1c11a19b0e2d8adfc8876a5cd34b6a2&lat=-10.599030538334148&lon=20.715449490339097\n",
      "http://api.openweathermap.org/data/2.5/weather?units=Imperial&APPID=b1c11a19b0e2d8adfc8876a5cd34b6a2&lat=-25.387181590942035&lon=-96.7560997026109\n",
      "http://api.openweathermap.org/data/2.5/weather?units=Imperial&APPID=b1c11a19b0e2d8adfc8876a5cd34b6a2&lat=52.63081364604392&lon=-22.71080461586908\n",
      "http://api.openweathermap.org/data/2.5/weather?units=Imperial&APPID=b1c11a19b0e2d8adfc8876a5cd34b6a2&lat=-24.885024042786284&lon=55.16627248817113\n",
      "http://api.openweathermap.org/data/2.5/weather?units=Imperial&APPID=b1c11a19b0e2d8adfc8876a5cd34b6a2&lat=-36.30343837357302&lon=-102.43656649524306\n",
      "http://api.openweathermap.org/data/2.5/weather?units=Imperial&APPID=b1c11a19b0e2d8adfc8876a5cd34b6a2&lat=-38.52190730199138&lon=-47.0053745379235\n",
      "http://api.openweathermap.org/data/2.5/weather?units=Imperial&APPID=b1c11a19b0e2d8adfc8876a5cd34b6a2&lat=39.937966514423636&lon=119.60754336029032\n",
      "http://api.openweathermap.org/data/2.5/weather?units=Imperial&APPID=b1c11a19b0e2d8adfc8876a5cd34b6a2&lat=31.56261632896792&lon=-26.79713358668161\n",
      "http://api.openweathermap.org/data/2.5/weather?units=Imperial&APPID=b1c11a19b0e2d8adfc8876a5cd34b6a2&lat=36.87945785162823&lon=-67.0470844032947\n",
      "http://api.openweathermap.org/data/2.5/weather?units=Imperial&APPID=b1c11a19b0e2d8adfc8876a5cd34b6a2&lat=54.24312802374044&lon=101.0636394338\n",
      "http://api.openweathermap.org/data/2.5/weather?units=Imperial&APPID=b1c11a19b0e2d8adfc8876a5cd34b6a2&lat=-2.4607045953318334&lon=-79.91615329385861\n"
     ]
    }
   ],
   "source": [
    "# Dependencies\n",
    "import requests\n",
    "import time\n",
    "lats= []\n",
    "lons=[]\n",
    "lats.append(c_df['lats'])\n",
    "lons.append(c_df['lngs'])\n",
    "api_key = api_keys.api_key\n",
    "index = []\n",
    "# index.append(c_df['index'])\n",
    "# url = \"http://api.openweathermap.org/data/2.5/weather?units=Imperial&APPID=b1c11a19b0e2d8adfc8876a5cd34b6a2\"\n",
    "# api = []\n",
    "# x=0\n",
    "# for x in range(len(lats)):\n",
    "#     api[x] = f'{url}&lat={lats[x]}&lon={[lons[x]]}'\n",
    "# #     response = requests.get(ai+\"\"\n",
    "# print(api)    \n",
    "# # # Store a search term\n",
    "# # # query = \"obama\"\n",
    "\n",
    "\n",
    "\n",
    "# movie_data = requests.get(url + movie).json()\n",
    "#     responses.append(movie_data)\n",
    "#     print(f'The director of {movie} is {movie_data[\"Director\"]}')\n",
    "\n",
    "\n",
    "\n",
    "# Starting URL for Weather Map API Call\n",
    "url = \"http://api.openweathermap.org/data/2.5/weather?units=Imperial\"+api_key\n",
    "response_json = []\n",
    "x=0\n",
    "# y=(x+1)\n",
    "for x in range(len(cities)):\n",
    "    post_response = requests.get(url +f'&lat={mylats[x]}&Lon={mylngs[x]}')\n",
    "    print(url+f'&lat={mylats[x]}&lon={mylngs[x]}')\n",
    "#     text_file = open(\"Output.txt\", \"w\")\n",
    "#     text_file.write(f'Procssing city number {[x+1]},at longitude{mylngs[x]},latitude{mylats[x]}')\n",
    "# text_file.close()\n",
    "##CHECK OUT CLASS WORK BUT DATAFRAME FROM DICT SHOULD DO IT"
   ]
  },
  {
   "cell_type": "code",
   "execution_count": 24,
   "metadata": {},
   "outputs": [
    {
     "data": {
      "text/plain": [
       "[]"
      ]
     },
     "execution_count": 24,
     "metadata": {},
     "output_type": "execute_result"
    }
   ],
   "source": [
    "response_json"
   ]
  },
  {
   "cell_type": "code",
   "execution_count": 21,
   "metadata": {},
   "outputs": [
    {
     "name": "stdout",
     "output_type": "stream",
     "text": [
      "http://api.openweathermap.org/data/2.5/weather?units=Imperial\n"
     ]
    }
   ],
   "source": [
    "# OpenWeatherMap API Key\n",
    "from string import Template\n",
    "api_key = api_keys.api_key\n",
    "time = '1540189097'\n",
    "myapis = []\n",
    "# Starting URL for Weather Map API Call\n",
    "# for i in c_df.index:\n",
    "    \n",
    "# myapis\n",
    "# API KEY CHANGED\n",
    "# #Set params:\n",
    "# time = '1540189097'\n",
    "\n",
    "# i = 0\n",
    "# for row in c_df:\n",
    "#     print(f'http://history.openweathermap.org/data/2.5/history/city?lat={c_df[\"lats\"]}&lon={c_df[\"lngs\"]}&APPID=b1c11a19b0e2d8adfc8876a5cd34b6a2')\n",
    "# # # He said his name is Fred and he is 42 years old.row[0])\n",
    "# # # Call historical data by city name.\n",
    "# # API call:\n",
    "# http://history.openweathermap.org/data/2.5/history/city?lat={row[2]}&lon={row[3]}&type=hour&start={time}&end={time}\n",
    "\n",
    "# http://history.openweathermap.org/data/2.5/history/city?lat={lat}&lon={lon}&type=hour&start={start}&cnt={1}\n",
    "\n",
    "# Parameters:\n",
    "# lat, lon coordinates of the location of your interest\n",
    "\n",
    "# type type of the call, keep this parameter in the API call as 'hour'\n",
    "\n",
    "# start start date (unix time, UTC time zone), e.g. start=1369728000\n",
    "\n",
    "# end end date (unix time, UTC time zone), e.g. end=1369789200\n",
    "\n",
    "# cnt amount of returned data (one per hour, can be used instead of 'end')\n",
    "\n",
    "print(url)"
   ]
  },
  {
   "cell_type": "code",
   "execution_count": null,
   "metadata": {},
   "outputs": [],
   "source": [
    "c_df.head()"
   ]
  },
  {
   "cell_type": "code",
   "execution_count": null,
   "metadata": {},
   "outputs": [],
   "source": []
  },
  {
   "cell_type": "code",
   "execution_count": null,
   "metadata": {},
   "outputs": [],
   "source": []
  },
  {
   "cell_type": "code",
   "execution_count": null,
   "metadata": {},
   "outputs": [],
   "source": []
  }
 ],
 "metadata": {
  "anaconda-cloud": {},
  "kernelspec": {
   "display_name": "Python 3",
   "language": "python",
   "name": "python3"
  },
  "language_info": {
   "codemirror_mode": {
    "name": "ipython",
    "version": 3
   },
   "file_extension": ".py",
   "mimetype": "text/x-python",
   "name": "python",
   "nbconvert_exporter": "python",
   "pygments_lexer": "ipython3",
   "version": "3.6.6"
  }
 },
 "nbformat": 4,
 "nbformat_minor": 1
}
