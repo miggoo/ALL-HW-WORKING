{
 "cells": [
  {
   "cell_type": "code",
   "execution_count": 90,
   "metadata": {
    "scrolled": true
   },
   "outputs": [],
   "source": [
    "# Dependencies and Setup\n",
    "import matplotlib.pyplot as plt\n",
    "import pandas as pd\n",
    "import numpy as np\n",
    "import requests\n",
    "import time\n",
    "import random\n",
    "import json\n",
    "import requests\n",
    "# Import API key\n",
    "import api_keys\n",
    "\n",
    "# Incorporated citipy to determine city based on latitude and longitude\n",
    "from citipy import citipy\n",
    "\n",
    "# Output File (CSV)\n",
    "output_data_file = \"output_data/cities.csv\"\n",
    "\n",
    "# Range of latitudes and longitudes\n",
    "lat_range = (-90, 90)\n",
    "lng_range = (-180, 180)"
   ]
  },
  {
   "cell_type": "markdown",
   "metadata": {},
   "source": [
    "## Generate Cities List"
   ]
  },
  {
   "cell_type": "code",
   "execution_count": 91,
   "metadata": {
    "scrolled": true
   },
   "outputs": [
    {
     "name": "stdout",
     "output_type": "stream",
     "text": [
      "607\n"
     ]
    }
   ],
   "source": [
    "# List for holding lat_lngs and cities\n",
    "lat_lngs = []\n",
    "cities = []\n",
    "\n",
    "# Create a set of random lat and lng combinations\n",
    "lats = np.random.uniform(low=-90.000, high=90.000, size=1500)\n",
    "lngs = np.random.uniform(low=-180.000, high=180.000, size=1500)\n",
    "lat_lngs = zip(lats, lngs)\n",
    "mylats =  []\n",
    "mylngs =  []\n",
    "# Identify nearest city for each lat, lng combination\n",
    "for lat_lng in lat_lngs:\n",
    "    city = citipy.nearest_city(lat_lng[0], lat_lng[1]).city_name\n",
    "    \n",
    "    # If the city is unique, then add it to a our cities list\n",
    "    if city not in cities:\n",
    "        cities.append(city)\n",
    "        mylats.append(lat_lng[0])\n",
    "        mylngs.append(lat_lng[1])\n",
    "        \n",
    "# Print the city count to confirm sufficient count\n",
    "\n",
    "c_df = pd.DataFrame({'City':cities,'lats':mylats,'lngs':mylngs}, dtype='int64')\n",
    "c_df.reset_index(inplace=True)\n",
    "print(len(c_df.City))"
   ]
  },
  {
   "cell_type": "code",
   "execution_count": 92,
   "metadata": {},
   "outputs": [
    {
     "data": {
      "text/html": [
       "<div>\n",
       "<style scoped>\n",
       "    .dataframe tbody tr th:only-of-type {\n",
       "        vertical-align: middle;\n",
       "    }\n",
       "\n",
       "    .dataframe tbody tr th {\n",
       "        vertical-align: top;\n",
       "    }\n",
       "\n",
       "    .dataframe thead th {\n",
       "        text-align: right;\n",
       "    }\n",
       "</style>\n",
       "<table border=\"1\" class=\"dataframe\">\n",
       "  <thead>\n",
       "    <tr style=\"text-align: right;\">\n",
       "      <th></th>\n",
       "      <th>index</th>\n",
       "      <th>City</th>\n",
       "      <th>lats</th>\n",
       "      <th>lngs</th>\n",
       "    </tr>\n",
       "  </thead>\n",
       "  <tbody>\n",
       "    <tr>\n",
       "      <th>0</th>\n",
       "      <td>0</td>\n",
       "      <td>qaanaaq</td>\n",
       "      <td>89</td>\n",
       "      <td>-81</td>\n",
       "    </tr>\n",
       "    <tr>\n",
       "      <th>1</th>\n",
       "      <td>1</td>\n",
       "      <td>chokurdakh</td>\n",
       "      <td>89</td>\n",
       "      <td>144</td>\n",
       "    </tr>\n",
       "    <tr>\n",
       "      <th>2</th>\n",
       "      <td>2</td>\n",
       "      <td>alihe</td>\n",
       "      <td>50</td>\n",
       "      <td>123</td>\n",
       "    </tr>\n",
       "    <tr>\n",
       "      <th>3</th>\n",
       "      <td>3</td>\n",
       "      <td>khatanga</td>\n",
       "      <td>85</td>\n",
       "      <td>98</td>\n",
       "    </tr>\n",
       "    <tr>\n",
       "      <th>4</th>\n",
       "      <td>4</td>\n",
       "      <td>tuktoyaktuk</td>\n",
       "      <td>80</td>\n",
       "      <td>-128</td>\n",
       "    </tr>\n",
       "  </tbody>\n",
       "</table>\n",
       "</div>"
      ],
      "text/plain": [
       "   index         City  lats  lngs\n",
       "0      0      qaanaaq    89   -81\n",
       "1      1   chokurdakh    89   144\n",
       "2      2        alihe    50   123\n",
       "3      3     khatanga    85    98\n",
       "4      4  tuktoyaktuk    80  -128"
      ]
     },
     "execution_count": 92,
     "metadata": {},
     "output_type": "execute_result"
    }
   ],
   "source": [
    "c_df.head()"
   ]
  },
  {
   "cell_type": "markdown",
   "metadata": {},
   "source": [
    "## Perform API Calls"
   ]
  },
  {
   "cell_type": "code",
   "execution_count": 164,
   "metadata": {
    "scrolled": false
   },
   "outputs": [
    {
     "name": "stdout",
     "output_type": "stream",
     "text": [
      "76.59 1040.15 90 14.89 14.89 80 6.42 238.003\n"
     ]
    },
    {
     "data": {
      "text/html": [
       "<div>\n",
       "<style scoped>\n",
       "    .dataframe tbody tr th:only-of-type {\n",
       "        vertical-align: middle;\n",
       "    }\n",
       "\n",
       "    .dataframe tbody tr th {\n",
       "        vertical-align: top;\n",
       "    }\n",
       "\n",
       "    .dataframe thead th {\n",
       "        text-align: right;\n",
       "    }\n",
       "</style>\n",
       "<table border=\"1\" class=\"dataframe\">\n",
       "  <thead>\n",
       "    <tr style=\"text-align: right;\">\n",
       "      <th></th>\n",
       "      <th>temp</th>\n",
       "      <th>pressure</th>\n",
       "      <th>humidity</th>\n",
       "      <th>temp_min</th>\n",
       "      <th>temp_max</th>\n",
       "      <th>clouds</th>\n",
       "      <th>ws</th>\n",
       "      <th>wd</th>\n",
       "    </tr>\n",
       "  </thead>\n",
       "  <tbody>\n",
       "    <tr>\n",
       "      <th>0</th>\n",
       "      <td>76.59</td>\n",
       "      <td>1040.15</td>\n",
       "      <td>90</td>\n",
       "      <td>14.89</td>\n",
       "      <td>14.89</td>\n",
       "      <td>80</td>\n",
       "      <td>6.42</td>\n",
       "      <td>238.003</td>\n",
       "    </tr>\n",
       "  </tbody>\n",
       "</table>\n",
       "</div>"
      ],
      "text/plain": [
       "    temp  pressure  humidity  temp_min  temp_max  clouds    ws       wd\n",
       "0  76.59   1040.15        90     14.89     14.89      80  6.42  238.003"
      ]
     },
     "execution_count": 164,
     "metadata": {},
     "output_type": "execute_result"
    }
   ],
   "source": [
    "# Dependencies\n",
    "import requests\n",
    "import time\n",
    "import urllib.parse\n",
    "import json\n",
    "from addict import Dict\n",
    "lats= []\n",
    "lons=[]\n",
    "lats.append(c_df['lats'])\n",
    "lons.append(c_df['lngs'])\n",
    "api_key = api_keys.api_key\n",
    "index = []\n",
    "\n",
    "url = \"http://api.openweathermap.org/data/2.5/weather?units=Imperial\"+api_key\n",
    "apis = []\n",
    "jsons = []\n",
    "x=1\n",
    "# y=(x+1)\n",
    "response_json1 = []\n",
    "w = {'temp': [t], 'pressure': [p],'humidity':[h],'temp_min':[tmin],'temp_max':[tmax],'clouds':[c],'ws':[ws],'wd':[wd]}\n",
    "w_df = pd.DataFrame.from_dict(w)\n",
    "for x in range(len(lats)): #CHANGE BACK TO range(len(cities))\n",
    "    rurl = (url+ f'&lat={mylats[x]}&lon={mylngs[x]}')\n",
    "#     url1 = \n",
    "    post_response = requests.get(rurl)\n",
    "    response_json1.append(post_response.json())\n",
    "    data = response_json1[0]\n",
    "    weather = data['main']\n",
    "    t = temp\n",
    "    p = weather['pressure']\n",
    "    h = weather['humidity']\n",
    "    tmin = weather['temp_min']\n",
    "    tmax = weather['temp_max']\n",
    "    clouds = data['clouds']\n",
    "    c = clouds['all']\n",
    "    wind = data['wind']\n",
    "    ws = wind['speed']\n",
    "    wd = wind['deg']\n",
    "    data = {'temp': [t], 'pressure': [p],'humidity':[h],'temp_min':[tmin],'temp_max':[tmax],'clouds':[c],'ws':[ws],'wd':[wd]}\n",
    "    text_file = open(\"Output.txt\", \"w\")\n",
    "    text_file.write(f'Procssing city number {[x+1]},at longitude{mylngs[x]},latitude{mylats[x]}')\n",
    "    text_file.close()\n",
    "    \n",
    "##CHECK OUT CLASS WORK BUT DATAFRAME FROM DICT SHOULD DO IT\n",
    "print(t,p,h,tmin,tmax,c,ws, wd)\n",
    "data = {'temp': [t], 'pressure': [p],'humidity':[h],'temp_min':[tmin],'temp_max':[tmax],'clouds':[c],'ws':[ws],'wd':[wd]}\n",
    "w_df"
   ]
  },
  {
   "cell_type": "code",
   "execution_count": 154,
   "metadata": {
    "scrolled": true
   },
   "outputs": [
    {
     "name": "stdout",
     "output_type": "stream",
     "text": [
      "76.59 1040.15 90 14.89 14.89 80 6.42 238.003\n"
     ]
    }
   ],
   "source": [
    "response_json1\n",
    "data = response_json1[0]\n",
    "weather = data['main']\n",
    "t = temp\n",
    "p = weather['pressure']\n",
    "h = weather['humidity']\n",
    "tmin = weather['temp_min']\n",
    "tmax = weather['temp_max']\n",
    "clouds = data['clouds']\n",
    "c = clouds['all']\n",
    "wind = data['wind']\n",
    "ws = wind['speed']\n",
    "wd = wind['deg']\n",
    "\n",
    "# # Retrieve the video's title\n",
    "# title = data_item[\"coord\"]\n",
    "# print(response_json1['coord'][1])\n",
    "print(t,p,h,tmin,tmax,c,ws, wd)#print(\"Title: \", title)"
   ]
  },
  {
   "cell_type": "code",
   "execution_count": 122,
   "metadata": {},
   "outputs": [
    {
     "name": "stdout",
     "output_type": "stream",
     "text": [
      "http://api.openweathermap.org/data/2.5/weather?units=Imperial&APPID=b1c11a19b0e2d8adfc8876a5cd34b6a2\n"
     ]
    }
   ],
   "source": [
    "# OpenWeatherMap API Key\n",
    "from string import Template\n",
    "api_key = api_keys.api_key\n",
    "time = '1540189097'\n",
    "myapis = []\n",
    "# Starting URL for Weather Map API Call\n",
    "# for i in c_df.index:\n",
    "    \n",
    "# myapis\n",
    "# API KEY CHANGED\n",
    "# #Set params:\n",
    "# time = '1540189097'\n",
    "\n",
    "# i = 0\n",
    "# for row in c_df:\n",
    "#     print(f'http://history.openweathermap.org/data/2.5/history/city?lat={c_df[\"lats\"]}&lon={c_df[\"lngs\"]}&APPID=b1c11a19b0e2d8adfc8876a5cd34b6a2')\n",
    "# # # He said his name is Fred and he is 42 years old.row[0])\n",
    "# # # Call historical data by city name.\n",
    "# # API call:\n",
    "# http://history.openweathermap.org/data/2.5/history/city?lat={row[2]}&lon={row[3]}&type=hour&start={time}&end={time}\n",
    "\n",
    "# http://history.openweathermap.org/data/2.5/history/city?lat={lat}&lon={lon}&type=hour&start={start}&cnt={1}\n",
    "\n",
    "# Parameters:\n",
    "# lat, lon coordinates of the location of your interest\n",
    "\n",
    "# type type of the call, keep this parameter in the API call as 'hour'\n",
    "\n",
    "# start start date (unix time, UTC time zone), e.g. start=1369728000\n",
    "\n",
    "# end end date (unix time, UTC time zone), e.g. end=1369789200\n",
    "\n",
    "# cnt amount of returned data (one per hour, can be used instead of 'end')\n",
    "\n",
    "print(url)"
   ]
  },
  {
   "cell_type": "code",
   "execution_count": 123,
   "metadata": {},
   "outputs": [
    {
     "data": {
      "text/html": [
       "<div>\n",
       "<style scoped>\n",
       "    .dataframe tbody tr th:only-of-type {\n",
       "        vertical-align: middle;\n",
       "    }\n",
       "\n",
       "    .dataframe tbody tr th {\n",
       "        vertical-align: top;\n",
       "    }\n",
       "\n",
       "    .dataframe thead th {\n",
       "        text-align: right;\n",
       "    }\n",
       "</style>\n",
       "<table border=\"1\" class=\"dataframe\">\n",
       "  <thead>\n",
       "    <tr style=\"text-align: right;\">\n",
       "      <th></th>\n",
       "      <th>index</th>\n",
       "      <th>City</th>\n",
       "      <th>lats</th>\n",
       "      <th>lngs</th>\n",
       "    </tr>\n",
       "  </thead>\n",
       "  <tbody>\n",
       "    <tr>\n",
       "      <th>0</th>\n",
       "      <td>0</td>\n",
       "      <td>qaanaaq</td>\n",
       "      <td>89</td>\n",
       "      <td>-81</td>\n",
       "    </tr>\n",
       "    <tr>\n",
       "      <th>1</th>\n",
       "      <td>1</td>\n",
       "      <td>chokurdakh</td>\n",
       "      <td>89</td>\n",
       "      <td>144</td>\n",
       "    </tr>\n",
       "    <tr>\n",
       "      <th>2</th>\n",
       "      <td>2</td>\n",
       "      <td>alihe</td>\n",
       "      <td>50</td>\n",
       "      <td>123</td>\n",
       "    </tr>\n",
       "    <tr>\n",
       "      <th>3</th>\n",
       "      <td>3</td>\n",
       "      <td>khatanga</td>\n",
       "      <td>85</td>\n",
       "      <td>98</td>\n",
       "    </tr>\n",
       "    <tr>\n",
       "      <th>4</th>\n",
       "      <td>4</td>\n",
       "      <td>tuktoyaktuk</td>\n",
       "      <td>80</td>\n",
       "      <td>-128</td>\n",
       "    </tr>\n",
       "  </tbody>\n",
       "</table>\n",
       "</div>"
      ],
      "text/plain": [
       "   index         City  lats  lngs\n",
       "0      0      qaanaaq    89   -81\n",
       "1      1   chokurdakh    89   144\n",
       "2      2        alihe    50   123\n",
       "3      3     khatanga    85    98\n",
       "4      4  tuktoyaktuk    80  -128"
      ]
     },
     "execution_count": 123,
     "metadata": {},
     "output_type": "execute_result"
    }
   ],
   "source": [
    "c_df.head()"
   ]
  },
  {
   "cell_type": "code",
   "execution_count": null,
   "metadata": {},
   "outputs": [],
   "source": []
  },
  {
   "cell_type": "code",
   "execution_count": null,
   "metadata": {},
   "outputs": [],
   "source": []
  },
  {
   "cell_type": "code",
   "execution_count": null,
   "metadata": {},
   "outputs": [],
   "source": []
  }
 ],
 "metadata": {
  "anaconda-cloud": {},
  "kernelspec": {
   "display_name": "Python 3",
   "language": "python",
   "name": "python3"
  },
  "language_info": {
   "codemirror_mode": {
    "name": "ipython",
    "version": 3
   },
   "file_extension": ".py",
   "mimetype": "text/x-python",
   "name": "python",
   "nbconvert_exporter": "python",
   "pygments_lexer": "ipython3",
   "version": "3.6.6"
  }
 },
 "nbformat": 4,
 "nbformat_minor": 1
}
